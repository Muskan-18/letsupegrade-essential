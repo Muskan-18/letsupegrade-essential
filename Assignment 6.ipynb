{
 "cells": [
  {
   "cell_type": "markdown",
   "metadata": {},
   "source": [
    "# ASSIGNMENT 6"
   ]
  },
  {
   "cell_type": "markdown",
   "metadata": {},
   "source": [
    "### Question 1"
   ]
  },
  {
   "cell_type": "markdown",
   "metadata": {},
   "source": [
    "### Program to create a class name bank_account"
   ]
  },
  {
   "cell_type": "code",
   "execution_count": 1,
   "metadata": {},
   "outputs": [],
   "source": [
    "class bank_account():\n",
    "    def __init__(self,ownerName,balance):\n",
    "        self.ownerName = ownerName\n",
    "        self.balance = balance\n",
    "        \n",
    "    def deposit(self):\n",
    "        deposit_amt = input(\"Please enter the amount you want to DEPOSIT : \")\n",
    "        deposit_amt = int(deposit_amt)\n",
    "        self.balance= self.balance+deposit_amt\n",
    "        print(\"Amount is deposited !\")\n",
    "        print(\"Your total balance is \",self.balance)\n",
    "    \n",
    "    def withdraw(self):\n",
    "        withdrawal_amt= input(\"Please enter the amount you want to WITHDRAWAL : \")\n",
    "        withdrawal_amt = int(withdrawal_amt)\n",
    "        if withdrawal_amt < self.balance :\n",
    "            self.balance = self.balance-withdrawal_amt\n",
    "            print(\"Withdrawal Successful!\")\n",
    "            print(\"Remainig Balance is \",self.balance)\n",
    "        else:\n",
    "            print(\"You don't have sufficent balance to withdraw.\")"
   ]
  },
  {
   "cell_type": "code",
   "execution_count": 2,
   "metadata": {},
   "outputs": [
    {
     "name": "stdout",
     "output_type": "stream",
     "text": [
      "Please enter the amount you want to DEPOSIT : 4000\n",
      "Amount is deposited !\n",
      "Your total balance is  49000\n"
     ]
    }
   ],
   "source": [
    "A001 = bank_account(\"John\",45000)\n",
    "A001.deposit()"
   ]
  },
  {
   "cell_type": "code",
   "execution_count": 3,
   "metadata": {},
   "outputs": [
    {
     "name": "stdout",
     "output_type": "stream",
     "text": [
      "Please enter the amount you want to WITHDRAWAL : 54000\n",
      "You don't have sufficent balance to withdraw.\n"
     ]
    }
   ],
   "source": [
    "A001.withdraw()"
   ]
  },
  {
   "cell_type": "code",
   "execution_count": 4,
   "metadata": {},
   "outputs": [
    {
     "name": "stdout",
     "output_type": "stream",
     "text": [
      "Please enter the amount you want to DEPOSIT : 50000\n",
      "Amount is deposited !\n",
      "Your total balance is  99000\n"
     ]
    }
   ],
   "source": [
    "A001.deposit()"
   ]
  },
  {
   "cell_type": "code",
   "execution_count": 5,
   "metadata": {},
   "outputs": [
    {
     "name": "stdout",
     "output_type": "stream",
     "text": [
      "Please enter the amount you want to WITHDRAWAL : 49000\n",
      "Withdrawal Successful!\n",
      "Remainig Balance is  50000\n"
     ]
    }
   ],
   "source": [
    "A001.withdraw()"
   ]
  },
  {
   "cell_type": "markdown",
   "metadata": {},
   "source": [
    "### Question 2"
   ]
  },
  {
   "cell_type": "markdown",
   "metadata": {},
   "source": [
    "### Program to create cone"
   ]
  },
  {
   "cell_type": "code",
   "execution_count": 37,
   "metadata": {},
   "outputs": [],
   "source": [
    "import math\n",
    "class cone :\n",
    "    def __init__(self,radius,height):\n",
    "        self.radius = radius\n",
    "        self.height = height\n",
    "    \n",
    "    def surfacearea(self):\n",
    "        base = (math.pi)*(math.pow(self.radius,2))\n",
    "        conical_surface =(math.pi)*self.radius*(math.sqrt((math.pow(self.radius,2))+(math.pow(self.height,2))))\n",
    "        print(\"Surface area of cone is-\")\n",
    "        print(\"Base = \",base,\"sq.units\")\n",
    "        print(\"Conical Surface = \",conical_surface,\"sq.units\")\n",
    "        \n",
    "    def volume(self):\n",
    "        volume =(math.pi)*(math.pow(self.radius,2))*self.height/3\n",
    "        print(\"Volume of cone = \",volume,\"cubic units\")\n",
    "\n"
   ]
  },
  {
   "cell_type": "code",
   "execution_count": 38,
   "metadata": {},
   "outputs": [
    {
     "name": "stdout",
     "output_type": "stream",
     "text": [
      "Surface area of cone is-\n",
      "Base =  78.53981633974483 sq.units\n",
      "Conical Surface =  122.68311502265203 sq.units\n",
      "Volume of cone =  157.07963267948966 cubic units\n"
     ]
    }
   ],
   "source": [
    "cone1 = cone(5,6)\n",
    "cone1.surfacearea()\n",
    "cone1.volume()"
   ]
  },
  {
   "cell_type": "code",
   "execution_count": 31,
   "metadata": {},
   "outputs": [
    {
     "name": "stdout",
     "output_type": "stream",
     "text": [
      "Volume of cone =  256.56340004316644 cubic units\n",
      "Surface area of cone is-\n",
      "Base =  153.93804002589985 sq.units\n",
      "Conical Surface =  189.1750130391168 sq.units\n"
     ]
    }
   ],
   "source": [
    "cone2 = cone(7,5)\n",
    "cone2.volume()\n",
    "cone2.surfacearea()"
   ]
  }
 ],
 "metadata": {
  "kernelspec": {
   "display_name": "Python 3",
   "language": "python",
   "name": "python3"
  },
  "language_info": {
   "codemirror_mode": {
    "name": "ipython",
    "version": 3
   },
   "file_extension": ".py",
   "mimetype": "text/x-python",
   "name": "python",
   "nbconvert_exporter": "python",
   "pygments_lexer": "ipython3",
   "version": "3.8.3"
  }
 },
 "nbformat": 4,
 "nbformat_minor": 4
}
