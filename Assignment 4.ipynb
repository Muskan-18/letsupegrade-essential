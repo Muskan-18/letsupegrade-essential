{
 "cells": [
  {
   "cell_type": "markdown",
   "metadata": {},
   "source": [
    "# Assignment 4"
   ]
  },
  {
   "cell_type": "code",
   "execution_count": 1,
   "metadata": {},
   "outputs": [],
   "source": [
    "#Armstrong Problem"
   ]
  },
  {
   "cell_type": "code",
   "execution_count": 3,
   "metadata": {},
   "outputs": [
    {
     "name": "stdout",
     "output_type": "stream",
     "text": [
      "The first armstrong number is: 1042401\n"
     ]
    }
   ],
   "source": [
    "i=1042000\n",
    "num=0\n",
    "\n",
    "while i<702648265:\n",
    "    num=i\n",
    "    reverse=0\n",
    "    dig=0\n",
    "    while num>0 :\n",
    "        dig=num%10\n",
    "        reverse=(10*reverse)+dig\n",
    "        num//=10\n",
    "\n",
    "    if i==reverse:\n",
    "        print(\"The first armstrong number is:\",i)\n",
    "        break\n",
    "    i +=1"
   ]
  },
  {
   "cell_type": "code",
   "execution_count": null,
   "metadata": {},
   "outputs": [],
   "source": []
  }
 ],
 "metadata": {
  "kernelspec": {
   "display_name": "Python 3",
   "language": "python",
   "name": "python3"
  },
  "language_info": {
   "codemirror_mode": {
    "name": "ipython",
    "version": 3
   },
   "file_extension": ".py",
   "mimetype": "text/x-python",
   "name": "python",
   "nbconvert_exporter": "python",
   "pygments_lexer": "ipython3",
   "version": "3.8.3"
  }
 },
 "nbformat": 4,
 "nbformat_minor": 4
}
